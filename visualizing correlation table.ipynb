{
 "cells": [
  {
   "cell_type": "code",
   "execution_count": 65,
   "id": "61270e77",
   "metadata": {},
   "outputs": [
    {
     "data": {
      "text/plain": [
       "'C:\\\\Users\\\\Quick Tech\\\\Desktop'"
      ]
     },
     "execution_count": 65,
     "metadata": {},
     "output_type": "execute_result"
    }
   ],
   "source": [
    "import pandas as pd\n",
    "import numpy as np\n",
    "import os\n",
    "os.getcwd()\n"
   ]
  },
  {
   "cell_type": "code",
   "execution_count": 118,
   "id": "064e09e5",
   "metadata": {},
   "outputs": [],
   "source": [
    "df = pd.read_csv('data.csv')"
   ]
  },
  {
   "cell_type": "code",
   "execution_count": 119,
   "id": "f3029e19",
   "metadata": {},
   "outputs": [
    {
     "data": {
      "text/html": [
       "<div>\n",
       "<style scoped>\n",
       "    .dataframe tbody tr th:only-of-type {\n",
       "        vertical-align: middle;\n",
       "    }\n",
       "\n",
       "    .dataframe tbody tr th {\n",
       "        vertical-align: top;\n",
       "    }\n",
       "\n",
       "    .dataframe thead th {\n",
       "        text-align: right;\n",
       "    }\n",
       "</style>\n",
       "<table border=\"1\" class=\"dataframe\">\n",
       "  <thead>\n",
       "    <tr style=\"text-align: right;\">\n",
       "      <th></th>\n",
       "      <th>id</th>\n",
       "      <th>radius_mean</th>\n",
       "      <th>texture_mean</th>\n",
       "      <th>perimeter_mean</th>\n",
       "      <th>area_mean</th>\n",
       "      <th>smoothness_mean</th>\n",
       "      <th>compactness_mean</th>\n",
       "      <th>symmetry_mean</th>\n",
       "      <th>fractal_dimension_mean</th>\n",
       "      <th>radius_se</th>\n",
       "      <th>...</th>\n",
       "      <th>symmetry_se</th>\n",
       "      <th>fractal_dimension_se</th>\n",
       "      <th>radius_worst</th>\n",
       "      <th>texture_worst</th>\n",
       "      <th>perimeter_worst</th>\n",
       "      <th>area_worst</th>\n",
       "      <th>smoothness_worst</th>\n",
       "      <th>compactness_worst</th>\n",
       "      <th>symmetry_worst</th>\n",
       "      <th>fractal_dimension_worst</th>\n",
       "    </tr>\n",
       "  </thead>\n",
       "  <tbody>\n",
       "    <tr>\n",
       "      <th>id</th>\n",
       "      <td>1.000000</td>\n",
       "      <td>0.074626</td>\n",
       "      <td>0.099770</td>\n",
       "      <td>0.073159</td>\n",
       "      <td>0.096893</td>\n",
       "      <td>-0.012968</td>\n",
       "      <td>0.000096</td>\n",
       "      <td>-0.022114</td>\n",
       "      <td>-0.052511</td>\n",
       "      <td>0.143048</td>\n",
       "      <td>...</td>\n",
       "      <td>-0.017306</td>\n",
       "      <td>0.025725</td>\n",
       "      <td>0.082405</td>\n",
       "      <td>0.064720</td>\n",
       "      <td>0.079986</td>\n",
       "      <td>0.107187</td>\n",
       "      <td>0.010338</td>\n",
       "      <td>-0.002968</td>\n",
       "      <td>-0.044224</td>\n",
       "      <td>-0.029866</td>\n",
       "    </tr>\n",
       "    <tr>\n",
       "      <th>radius_mean</th>\n",
       "      <td>0.074626</td>\n",
       "      <td>1.000000</td>\n",
       "      <td>0.323782</td>\n",
       "      <td>0.997855</td>\n",
       "      <td>0.987357</td>\n",
       "      <td>0.170581</td>\n",
       "      <td>0.506124</td>\n",
       "      <td>0.147741</td>\n",
       "      <td>-0.311631</td>\n",
       "      <td>0.679090</td>\n",
       "      <td>...</td>\n",
       "      <td>-0.104321</td>\n",
       "      <td>-0.042641</td>\n",
       "      <td>0.969539</td>\n",
       "      <td>0.297008</td>\n",
       "      <td>0.965137</td>\n",
       "      <td>0.941082</td>\n",
       "      <td>0.119616</td>\n",
       "      <td>0.413463</td>\n",
       "      <td>0.163953</td>\n",
       "      <td>0.007066</td>\n",
       "    </tr>\n",
       "    <tr>\n",
       "      <th>texture_mean</th>\n",
       "      <td>0.099770</td>\n",
       "      <td>0.323782</td>\n",
       "      <td>1.000000</td>\n",
       "      <td>0.329533</td>\n",
       "      <td>0.321086</td>\n",
       "      <td>-0.023389</td>\n",
       "      <td>0.236702</td>\n",
       "      <td>0.071401</td>\n",
       "      <td>-0.076437</td>\n",
       "      <td>0.275869</td>\n",
       "      <td>...</td>\n",
       "      <td>0.009127</td>\n",
       "      <td>0.054458</td>\n",
       "      <td>0.352573</td>\n",
       "      <td>0.912045</td>\n",
       "      <td>0.358040</td>\n",
       "      <td>0.343546</td>\n",
       "      <td>0.077503</td>\n",
       "      <td>0.277830</td>\n",
       "      <td>0.105008</td>\n",
       "      <td>0.119205</td>\n",
       "    </tr>\n",
       "    <tr>\n",
       "      <th>perimeter_mean</th>\n",
       "      <td>0.073159</td>\n",
       "      <td>0.997855</td>\n",
       "      <td>0.329533</td>\n",
       "      <td>1.000000</td>\n",
       "      <td>0.986507</td>\n",
       "      <td>0.207278</td>\n",
       "      <td>0.556936</td>\n",
       "      <td>0.183027</td>\n",
       "      <td>-0.261477</td>\n",
       "      <td>0.691765</td>\n",
       "      <td>...</td>\n",
       "      <td>-0.081629</td>\n",
       "      <td>-0.005523</td>\n",
       "      <td>0.969476</td>\n",
       "      <td>0.303038</td>\n",
       "      <td>0.970387</td>\n",
       "      <td>0.941550</td>\n",
       "      <td>0.150549</td>\n",
       "      <td>0.455774</td>\n",
       "      <td>0.189115</td>\n",
       "      <td>0.051019</td>\n",
       "    </tr>\n",
       "    <tr>\n",
       "      <th>area_mean</th>\n",
       "      <td>0.096893</td>\n",
       "      <td>0.987357</td>\n",
       "      <td>0.321086</td>\n",
       "      <td>0.986507</td>\n",
       "      <td>1.000000</td>\n",
       "      <td>0.177028</td>\n",
       "      <td>0.498502</td>\n",
       "      <td>0.151293</td>\n",
       "      <td>-0.283110</td>\n",
       "      <td>0.732562</td>\n",
       "      <td>...</td>\n",
       "      <td>-0.072497</td>\n",
       "      <td>-0.019887</td>\n",
       "      <td>0.962746</td>\n",
       "      <td>0.287489</td>\n",
       "      <td>0.959120</td>\n",
       "      <td>0.959213</td>\n",
       "      <td>0.123523</td>\n",
       "      <td>0.390410</td>\n",
       "      <td>0.143570</td>\n",
       "      <td>0.003738</td>\n",
       "    </tr>\n",
       "  </tbody>\n",
       "</table>\n",
       "<p>5 rows × 25 columns</p>\n",
       "</div>"
      ],
      "text/plain": [
       "                      id  radius_mean  texture_mean  perimeter_mean  \\\n",
       "id              1.000000     0.074626      0.099770        0.073159   \n",
       "radius_mean     0.074626     1.000000      0.323782        0.997855   \n",
       "texture_mean    0.099770     0.323782      1.000000        0.329533   \n",
       "perimeter_mean  0.073159     0.997855      0.329533        1.000000   \n",
       "area_mean       0.096893     0.987357      0.321086        0.986507   \n",
       "\n",
       "                area_mean  smoothness_mean  compactness_mean  symmetry_mean  \\\n",
       "id               0.096893        -0.012968          0.000096      -0.022114   \n",
       "radius_mean      0.987357         0.170581          0.506124       0.147741   \n",
       "texture_mean     0.321086        -0.023389          0.236702       0.071401   \n",
       "perimeter_mean   0.986507         0.207278          0.556936       0.183027   \n",
       "area_mean        1.000000         0.177028          0.498502       0.151293   \n",
       "\n",
       "                fractal_dimension_mean  radius_se  ...  symmetry_se  \\\n",
       "id                           -0.052511   0.143048  ...    -0.017306   \n",
       "radius_mean                  -0.311631   0.679090  ...    -0.104321   \n",
       "texture_mean                 -0.076437   0.275869  ...     0.009127   \n",
       "perimeter_mean               -0.261477   0.691765  ...    -0.081629   \n",
       "area_mean                    -0.283110   0.732562  ...    -0.072497   \n",
       "\n",
       "                fractal_dimension_se  radius_worst  texture_worst  \\\n",
       "id                          0.025725      0.082405       0.064720   \n",
       "radius_mean                -0.042641      0.969539       0.297008   \n",
       "texture_mean                0.054458      0.352573       0.912045   \n",
       "perimeter_mean             -0.005523      0.969476       0.303038   \n",
       "area_mean                  -0.019887      0.962746       0.287489   \n",
       "\n",
       "                perimeter_worst  area_worst  smoothness_worst  \\\n",
       "id                     0.079986    0.107187          0.010338   \n",
       "radius_mean            0.965137    0.941082          0.119616   \n",
       "texture_mean           0.358040    0.343546          0.077503   \n",
       "perimeter_mean         0.970387    0.941550          0.150549   \n",
       "area_mean              0.959120    0.959213          0.123523   \n",
       "\n",
       "                compactness_worst  symmetry_worst  fractal_dimension_worst  \n",
       "id                      -0.002968       -0.044224                -0.029866  \n",
       "radius_mean              0.413463        0.163953                 0.007066  \n",
       "texture_mean             0.277830        0.105008                 0.119205  \n",
       "perimeter_mean           0.455774        0.189115                 0.051019  \n",
       "area_mean                0.390410        0.143570                 0.003738  \n",
       "\n",
       "[5 rows x 25 columns]"
      ]
     },
     "execution_count": 119,
     "metadata": {},
     "output_type": "execute_result"
    }
   ],
   "source": [
    "group=df.replace(0,np.NaN).dropna(axis=1).corr()\n",
    "group.head()"
   ]
  },
  {
   "cell_type": "code",
   "execution_count": 120,
   "id": "2b613d13",
   "metadata": {},
   "outputs": [
    {
     "data": {
      "text/plain": [
       "<matplotlib.image.AxesImage at 0x24aa79b8910>"
      ]
     },
     "execution_count": 120,
     "metadata": {},
     "output_type": "execute_result"
    },
    {
     "data": {
      "image/png": "[encoded data removed]",
      "text/plain": [
       "<Figure size 288x288 with 1 Axes>"
      ]
     },
     "metadata": {
      "needs_background": "light"
     },
     "output_type": "display_data"
    }
   ],
   "source": [
    "import matplotlib.pyplot as plt\n",
    "\n",
    "plt.matshow(group)"
   ]
  },
  {
   "cell_type": "code",
   "execution_count": 121,
   "id": "4ecadbf1",
   "metadata": {},
   "outputs": [
    {
     "name": "stderr",
     "output_type": "stream",
     "text": [
      "C:\\Users\\QUICKT~1\\AppData\\Local\\Temp/ipykernel_9040/2819015311.py:7: UserWarning: FixedFormatter should only be used together with FixedLocator\n",
      "  ax.set_yticklabels(labels)\n",
      "C:\\Users\\QUICKT~1\\AppData\\Local\\Temp/ipykernel_9040/2819015311.py:8: UserWarning: FixedFormatter should only be used together with FixedLocator\n",
      "  ax.set_xticklabels(labels)\n"
     ]
    },
    {
     "data": {
      "image/png": "[encoded data removed]",
      "text/plain": [
       "<Figure size 432x432 with 1 Axes>"
      ]
     },
     "metadata": {
      "needs_background": "light"
     },
     "output_type": "display_data"
    }
   ],
   "source": [
    "labels=[c[:2] for c in group.columns]\n",
    "\n",
    "fig = plt.figure(figsize=(6,6))\n",
    "ax = fig.add_subplot(111)\n",
    "ax.matshow(group ,cmap=plt.cm.RdYlGn)\n",
    "\n",
    "ax.set_yticklabels(labels)\n",
    "ax.set_xticklabels(labels)\n",
    "\n",
    "\n",
    "ax.set_xticks(np.arange(len(labels)))\n",
    "ax.set_yticks(np.arange(len(labels)))\n",
    "\n",
    "\n",
    "plt.show()"
   ]
  },
  {
   "cell_type": "code",
   "execution_count": 122,
   "id": "82ac138b",
   "metadata": {},
   "outputs": [],
   "source": [
    "import pandas as pd\n",
    "import requests\n",
    "\n",
    "web = requests.get(\"https://www.infoplease.com/state-abbreviations-and-state-postal-codes\")\n",
    "\n",
    "dfs = pd.read_html(web.text)"
   ]
  },
  {
   "cell_type": "code",
   "execution_count": 123,
   "id": "8d7e8fe5",
   "metadata": {},
   "outputs": [
    {
     "name": "stdout",
     "output_type": "stream",
     "text": [
      "  State Name/District Postal Abbreviation Postal Code\n",
      "0             Alabama                Ala.          AL\n",
      "1              Alaska              Alaska          AK\n",
      "2             Arizona               Ariz.          AZ\n",
      "3            Arkansas                Ark.          AR\n",
      "4          California              Calif.          CA\n",
      "        Territory/Associate Abbreviation Postal Code\n",
      "0            American Samoa          NaN          AS\n",
      "1                      Guam         Guam          GU\n",
      "2          Marshall Islands          NaN          MH\n",
      "3                Micronesia          NaN          FM\n",
      "4  Northern Mariana Islands          NaN          MP\n"
     ]
    }
   ],
   "source": [
    "for df in dfs:\n",
    "    print(df.head())\n",
    "    "
   ]
  },
  {
   "cell_type": "code",
   "execution_count": 124,
   "id": "a73ea4d0",
   "metadata": {},
   "outputs": [
    {
     "data": {
      "text/html": [
       "<div>\n",
       "<style scoped>\n",
       "    .dataframe tbody tr th:only-of-type {\n",
       "        vertical-align: middle;\n",
       "    }\n",
       "\n",
       "    .dataframe tbody tr th {\n",
       "        vertical-align: top;\n",
       "    }\n",
       "\n",
       "    .dataframe thead th {\n",
       "        text-align: right;\n",
       "    }\n",
       "</style>\n",
       "<table border=\"1\" class=\"dataframe\">\n",
       "  <thead>\n",
       "    <tr style=\"text-align: right;\">\n",
       "      <th></th>\n",
       "      <th>State Name/District</th>\n",
       "      <th>Postal Abbreviation</th>\n",
       "      <th>Postal Code</th>\n",
       "    </tr>\n",
       "  </thead>\n",
       "  <tbody>\n",
       "    <tr>\n",
       "      <th>0</th>\n",
       "      <td>Alabama</td>\n",
       "      <td>Ala.</td>\n",
       "      <td>AL</td>\n",
       "    </tr>\n",
       "    <tr>\n",
       "      <th>1</th>\n",
       "      <td>Alaska</td>\n",
       "      <td>Alaska</td>\n",
       "      <td>AK</td>\n",
       "    </tr>\n",
       "    <tr>\n",
       "      <th>2</th>\n",
       "      <td>Arizona</td>\n",
       "      <td>Ariz.</td>\n",
       "      <td>AZ</td>\n",
       "    </tr>\n",
       "    <tr>\n",
       "      <th>3</th>\n",
       "      <td>Arkansas</td>\n",
       "      <td>Ark.</td>\n",
       "      <td>AR</td>\n",
       "    </tr>\n",
       "    <tr>\n",
       "      <th>4</th>\n",
       "      <td>California</td>\n",
       "      <td>Calif.</td>\n",
       "      <td>CA</td>\n",
       "    </tr>\n",
       "  </tbody>\n",
       "</table>\n",
       "</div>"
      ],
      "text/plain": [
       "  State Name/District Postal Abbreviation Postal Code\n",
       "0             Alabama                Ala.          AL\n",
       "1              Alaska              Alaska          AK\n",
       "2             Arizona               Ariz.          AZ\n",
       "3            Arkansas                Ark.          AR\n",
       "4          California              Calif.          CA"
      ]
     },
     "execution_count": 124,
     "metadata": {},
     "output_type": "execute_result"
    }
   ],
   "source": [
    "state_abbv = dfs[0]\n",
    "state_abbv.head()"
   ]
  },
  {
   "cell_type": "code",
   "execution_count": 126,
   "id": "106356ea",
   "metadata": {},
   "outputs": [],
   "source": [
    "state_abbv.to_csv(\"datasets.csv\")"
   ]
  },
  {
   "cell_type": "code",
   "execution_count": 127,
   "id": "a0e5c3ba",
   "metadata": {},
   "outputs": [
    {
     "data": {
      "text/html": [
       "<div>\n",
       "<style scoped>\n",
       "    .dataframe tbody tr th:only-of-type {\n",
       "        vertical-align: middle;\n",
       "    }\n",
       "\n",
       "    .dataframe tbody tr th {\n",
       "        vertical-align: top;\n",
       "    }\n",
       "\n",
       "    .dataframe thead th {\n",
       "        text-align: right;\n",
       "    }\n",
       "</style>\n",
       "<table border=\"1\" class=\"dataframe\">\n",
       "  <thead>\n",
       "    <tr style=\"text-align: right;\">\n",
       "      <th></th>\n",
       "      <th>Unnamed: 0</th>\n",
       "      <th>State Name/District</th>\n",
       "      <th>Postal Abbreviation</th>\n",
       "      <th>Postal Code</th>\n",
       "    </tr>\n",
       "  </thead>\n",
       "  <tbody>\n",
       "    <tr>\n",
       "      <th>0</th>\n",
       "      <td>0</td>\n",
       "      <td>Alabama</td>\n",
       "      <td>Ala.</td>\n",
       "      <td>AL</td>\n",
       "    </tr>\n",
       "    <tr>\n",
       "      <th>1</th>\n",
       "      <td>1</td>\n",
       "      <td>Alaska</td>\n",
       "      <td>Alaska</td>\n",
       "      <td>AK</td>\n",
       "    </tr>\n",
       "    <tr>\n",
       "      <th>2</th>\n",
       "      <td>2</td>\n",
       "      <td>Arizona</td>\n",
       "      <td>Ariz.</td>\n",
       "      <td>AZ</td>\n",
       "    </tr>\n",
       "    <tr>\n",
       "      <th>3</th>\n",
       "      <td>3</td>\n",
       "      <td>Arkansas</td>\n",
       "      <td>Ark.</td>\n",
       "      <td>AR</td>\n",
       "    </tr>\n",
       "    <tr>\n",
       "      <th>4</th>\n",
       "      <td>4</td>\n",
       "      <td>California</td>\n",
       "      <td>Calif.</td>\n",
       "      <td>CA</td>\n",
       "    </tr>\n",
       "  </tbody>\n",
       "</table>\n",
       "</div>"
      ],
      "text/plain": [
       "   Unnamed: 0 State Name/District Postal Abbreviation Postal Code\n",
       "0           0             Alabama                Ala.          AL\n",
       "1           1              Alaska              Alaska          AK\n",
       "2           2             Arizona               Ariz.          AZ\n",
       "3           3            Arkansas                Ark.          AR\n",
       "4           4          California              Calif.          CA"
      ]
     },
     "execution_count": 127,
     "metadata": {},
     "output_type": "execute_result"
    }
   ],
   "source": [
    "state_abbv = pd.read_csv(\"datasets.csv\")\n",
    "state_abbv.head()"
   ]
  },
  {
   "cell_type": "code",
   "execution_count": 128,
   "id": "da5c3493",
   "metadata": {},
   "outputs": [
    {
     "data": {
      "text/html": [
       "<div>\n",
       "<style scoped>\n",
       "    .dataframe tbody tr th:only-of-type {\n",
       "        vertical-align: middle;\n",
       "    }\n",
       "\n",
       "    .dataframe tbody tr th {\n",
       "        vertical-align: top;\n",
       "    }\n",
       "\n",
       "    .dataframe thead th {\n",
       "        text-align: right;\n",
       "    }\n",
       "</style>\n",
       "<table border=\"1\" class=\"dataframe\">\n",
       "  <thead>\n",
       "    <tr style=\"text-align: right;\">\n",
       "      <th></th>\n",
       "      <th>State Name/District</th>\n",
       "      <th>Postal Abbreviation</th>\n",
       "      <th>Postal Code</th>\n",
       "    </tr>\n",
       "  </thead>\n",
       "  <tbody>\n",
       "    <tr>\n",
       "      <th>0</th>\n",
       "      <td>Alabama</td>\n",
       "      <td>Ala.</td>\n",
       "      <td>AL</td>\n",
       "    </tr>\n",
       "    <tr>\n",
       "      <th>1</th>\n",
       "      <td>Alaska</td>\n",
       "      <td>Alaska</td>\n",
       "      <td>AK</td>\n",
       "    </tr>\n",
       "    <tr>\n",
       "      <th>2</th>\n",
       "      <td>Arizona</td>\n",
       "      <td>Ariz.</td>\n",
       "      <td>AZ</td>\n",
       "    </tr>\n",
       "    <tr>\n",
       "      <th>3</th>\n",
       "      <td>Arkansas</td>\n",
       "      <td>Ark.</td>\n",
       "      <td>AR</td>\n",
       "    </tr>\n",
       "    <tr>\n",
       "      <th>4</th>\n",
       "      <td>California</td>\n",
       "      <td>Calif.</td>\n",
       "      <td>CA</td>\n",
       "    </tr>\n",
       "  </tbody>\n",
       "</table>\n",
       "</div>"
      ],
      "text/plain": [
       "  State Name/District Postal Abbreviation Postal Code\n",
       "0             Alabama                Ala.          AL\n",
       "1              Alaska              Alaska          AK\n",
       "2             Arizona               Ariz.          AZ\n",
       "3            Arkansas                Ark.          AR\n",
       "4          California              Calif.          CA"
      ]
     },
     "execution_count": 128,
     "metadata": {},
     "output_type": "execute_result"
    }
   ],
   "source": [
    "state_abbv = pd.read_csv(\"datasets.csv\",index_col=0)\n",
    "state_abbv.head()"
   ]
  },
  {
   "cell_type": "code",
   "execution_count": 129,
   "id": "7832da1e",
   "metadata": {},
   "outputs": [
    {
     "data": {
      "text/plain": [
       "{0: 'AL',\n",
       " 1: 'AK',\n",
       " 2: 'AZ',\n",
       " 3: 'AR',\n",
       " 4: 'CA',\n",
       " 5: 'CO',\n",
       " 6: 'CT',\n",
       " 7: 'DE',\n",
       " 8: 'DC',\n",
       " 9: 'FL',\n",
       " 10: 'GA',\n",
       " 11: 'HI',\n",
       " 12: 'ID',\n",
       " 13: 'IL',\n",
       " 14: 'IN',\n",
       " 15: 'IA',\n",
       " 16: 'KS',\n",
       " 17: 'KY',\n",
       " 18: 'LA',\n",
       " 19: 'ME',\n",
       " 20: 'MD',\n",
       " 21: 'MA',\n",
       " 22: 'MI',\n",
       " 23: 'MN',\n",
       " 24: 'MS',\n",
       " 25: 'MO',\n",
       " 26: 'MT',\n",
       " 27: 'NE',\n",
       " 28: 'NV',\n",
       " 29: 'NH',\n",
       " 30: 'NJ',\n",
       " 31: 'NM',\n",
       " 32: 'NY',\n",
       " 33: 'NC',\n",
       " 34: 'ND',\n",
       " 35: 'OH',\n",
       " 36: 'OK',\n",
       " 37: 'OR',\n",
       " 38: 'PA',\n",
       " 39: 'RI',\n",
       " 40: 'SC',\n",
       " 41: 'SD',\n",
       " 42: 'TN',\n",
       " 43: 'TX',\n",
       " 44: 'UT',\n",
       " 45: 'VT',\n",
       " 46: 'VA',\n",
       " 47: 'WA',\n",
       " 48: 'WV',\n",
       " 49: 'WI',\n",
       " 50: 'WY'}"
      ]
     },
     "execution_count": 129,
     "metadata": {},
     "output_type": "execute_result"
    }
   ],
   "source": [
    "abbv_dict = state_abbv[[\"Postal Code\"]].to_dict()\n",
    "\n",
    "abbv_dict = abbv_dict[\"Postal Code\"]\n",
    "abbv_dict"
   ]
  },
  {
   "cell_type": "code",
   "execution_count": null,
   "id": "ae240ad8",
   "metadata": {},
   "outputs": [],
   "source": []
  }
 ],
 "metadata": {
  "kernelspec": {
   "display_name": "Python 3 (ipykernel)",
   "language": "python",
   "name": "python3"
  },
  "language_info": {
   "codemirror_mode": {
    "name": "ipython",
    "version": 3
   },
   "file_extension": ".py",
   "mimetype": "text/x-python",
   "name": "python",
   "nbconvert_exporter": "python",
   "pygments_lexer": "ipython3",
   "version": "3.9.7"
  }
 },
 "nbformat": 4,
 "nbformat_minor": 5
}
